{
 "cells": [
  {
   "cell_type": "code",
   "execution_count": 6,
   "id": "51f7c995-60a6-4153-9aa6-37c9ceada0d1",
   "metadata": {},
   "outputs": [
    {
     "name": "stdout",
     "output_type": "stream",
     "text": [
      "Raissa Kitenge DS5020 Problem 8e\n"
     ]
    }
   ],
   "source": [
    "print (\"Raissa Kitenge DS5020 Problem 8e\")"
   ]
  },
  {
   "cell_type": "code",
   "execution_count": 10,
   "id": "a9010309-871c-4ae0-a1a8-2742a7b30d6f",
   "metadata": {},
   "outputs": [
    {
     "name": "stdout",
     "output_type": "stream",
     "text": [
      "Vector | Original Class | Normalized Class | Changed?\n",
      "x1     |             1 |               1 | No\n",
      "x2     |             0 |               0 | No\n",
      "x3     |             0 |               0 | No\n",
      "x4     |             1 |               1 | No\n",
      "x5     |             0 |               0 | No\n",
      "x6     |             1 |               1 | No\n",
      "\n",
      "In Conclusion: Normalization doesn't change classifications because it preserves vector directions\n"
     ]
    }
   ],
   "source": [
    "import numpy as np\n",
    "import matplotlib.pyplot as plt\n",
    "\n",
    "\n",
    "print(\"Vector | Original Class | Normalized Class | Changed?\")\n",
    "\n",
    "for name, data in results.items():\n",
    "    x = data['vector']\n",
    "    original_class = data['class']\n",
    "\n",
    "    # Normalize vector\n",
    "    x_normalized = x / np.linalg.norm(x)\n",
    "    normalized_class = classify(x_normalized, w)\n",
    "\n",
    "    changed = \"Yes\" if original_class != normalized_class else \"No\"\n",
    "\n",
    "    print(f\"{name:<6} | {original_class:>13} | {normalized_class:>15} | {changed}\")\n",
    "\n",
    "print()\n",
    "print(\"In Conclusion: Normalization doesn't change classifications because it preserves vector directions\")\n"
   ]
  },
  {
   "cell_type": "code",
   "execution_count": null,
   "id": "0a58692d-2429-44ea-ba8d-e4d0eeb14a0c",
   "metadata": {},
   "outputs": [],
   "source": []
  }
 ],
 "metadata": {
  "kernelspec": {
   "display_name": "Python 3 (ipykernel)",
   "language": "python",
   "name": "python3"
  },
  "language_info": {
   "codemirror_mode": {
    "name": "ipython",
    "version": 3
   },
   "file_extension": ".py",
   "mimetype": "text/x-python",
   "name": "python",
   "nbconvert_exporter": "python",
   "pygments_lexer": "ipython3",
   "version": "3.13.5"
  }
 },
 "nbformat": 4,
 "nbformat_minor": 5
}
