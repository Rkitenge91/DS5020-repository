{
 "cells": [
  {
   "cell_type": "code",
   "execution_count": 1,
   "id": "bea43c0b-1552-48ad-9098-aa6ff1631804",
   "metadata": {},
   "outputs": [
    {
     "name": "stdout",
     "output_type": "stream",
     "text": [
      "Raissa Kitenge: DS5020 Homework 1 Problem 8a\n"
     ]
    }
   ],
   "source": [
    "print (\"Raissa Kitenge: DS5020 Homework 1 Problem 8a\")"
   ]
  },
  {
   "cell_type": "code",
   "execution_count": 5,
   "id": "a4f26b72-229a-4f28-9e31-4deb23a7d121",
   "metadata": {},
   "outputs": [],
   "source": [
    "import numpy as np \n",
    "\n",
    "w = np.array([2, -1])\n",
    "\n",
    "def classify(x, w=w):\n",
    "    dot = np.dot(w, x)\n",
    "    if dot > 0:\n",
    "        return 1\n",
    "    elif dot < 0:\n",
    "        return -1\n",
    "    else:\n",
    "        return 0"
   ]
  },
  {
   "cell_type": "code",
   "execution_count": null,
   "id": "2b7d75a6-72e8-4206-8996-4cb4021d3aae",
   "metadata": {},
   "outputs": [],
   "source": []
  }
 ],
 "metadata": {
  "kernelspec": {
   "display_name": "Python 3 (ipykernel)",
   "language": "python",
   "name": "python3"
  },
  "language_info": {
   "codemirror_mode": {
    "name": "ipython",
    "version": 3
   },
   "file_extension": ".py",
   "mimetype": "text/x-python",
   "name": "python",
   "nbconvert_exporter": "python",
   "pygments_lexer": "ipython3",
   "version": "3.13.5"
  }
 },
 "nbformat": 4,
 "nbformat_minor": 5
}
