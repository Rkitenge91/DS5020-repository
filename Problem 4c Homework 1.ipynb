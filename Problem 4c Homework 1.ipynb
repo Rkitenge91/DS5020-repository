{
 "cells": [
  {
   "cell_type": "code",
   "execution_count": 5,
   "id": "480ce13f-85a9-490c-bc53-b786c77cf17a",
   "metadata": {},
   "outputs": [
    {
     "name": "stdout",
     "output_type": "stream",
     "text": [
      "Raissa Kitenge: DS5020 Homework 1 Problem 4c\n"
     ]
    }
   ],
   "source": [
    "print(\"Raissa Kitenge: DS5020 Homework 1 Problem 4c\")"
   ]
  },
  {
   "cell_type": "code",
   "execution_count": 4,
   "id": "f6b01258-6eeb-479f-9431-b2c92c191e86",
   "metadata": {},
   "outputs": [
    {
     "name": "stdout",
     "output_type": "stream",
     "text": [
      "Euclidean distance: 20.12461179749811\n",
      "Cosine similarity: 0.9999999999999999\n"
     ]
    }
   ],
   "source": [
    "import numpy as np\n",
    "from sklearn.metrics.pairwise import euclidean_distances\n",
    "from sklearn.metrics.pairwise import cosine_similarity\n",
    "\n",
    "a = np.array([[1,2]])\n",
    "b = np.array([[10,20]])\n",
    "\n",
    "# Calculate Euclidean distance\n",
    "ed = euclidean_distances(a, b)[0,0]\n",
    "# Calculate Cosine similarity\n",
    "cs = cosine_similarity(a, b)[0,0]\n",
    "\n",
    "print(\"Euclidean distance:\", ed)\n",
    "print(\"Cosine similarity:\", cs)"
   ]
  },
  {
   "cell_type": "code",
   "execution_count": null,
   "id": "918a32d5-b884-401a-be2f-2578650920b6",
   "metadata": {},
   "outputs": [],
   "source": []
  }
 ],
 "metadata": {
  "kernelspec": {
   "display_name": "Python 3 (ipykernel)",
   "language": "python",
   "name": "python3"
  },
  "language_info": {
   "codemirror_mode": {
    "name": "ipython",
    "version": 3
   },
   "file_extension": ".py",
   "mimetype": "text/x-python",
   "name": "python",
   "nbconvert_exporter": "python",
   "pygments_lexer": "ipython3",
   "version": "3.13.5"
  }
 },
 "nbformat": 4,
 "nbformat_minor": 5
}
